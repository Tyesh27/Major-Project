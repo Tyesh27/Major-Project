{
 "cells": [
  {
   "cell_type": "code",
   "execution_count": 1,
   "metadata": {},
   "outputs": [],
   "source": [
    "import pandas as pd\n",
    "from os.path import join\n",
    "from os.path import dirname\n",
    "\n",
    "def loadMovieLens100k(train_test_split = True, all_columns=False):\n",
    "    path = dirname(\"C:/Users/Gunnax/Desktop/5th Trisem/Thesis/SVD on ML-100k\")\n",
    "    train_filename = join(path, \"SVD on ML-100k\", \"ua.base\")\n",
    "    test_filename = join(path, \"SVD on ML-100k\", \"ua.test\")\n",
    "    users_filename = join(path, \"SVD on ML-100k\", \"u.user\")\n",
    "    items_filename = join(path, \"SVD on ML-100k\", \"u.item\")\n",
    "\n",
    "    train = pd.read_csv(train_filename, delimiter=\"\\t\", header=None)\n",
    "    test = pd.read_csv(test_filename, delimiter=\"\\t\", header=None)\n",
    "    users = pd.read_csv(users_filename, delimiter=\"|\", header=None, encoding=\"ISO-8859-1\")\n",
    "    items = pd.read_csv(items_filename, delimiter=\"|\", header=None, encoding=\"ISO-8859-1\")\n",
    "\n",
    "    del train[3], test[3]\n",
    "    train.columns = ['userId', 'itemId', 'rating']\n",
    "    test.columns = ['userId', 'itemId', 'rating']\n",
    "\n",
    "    if all_columns == True:\n",
    "        del users[4], items[1], items[2], items[3], items[4]\n",
    "        items = items.rename(columns={0: 'itemId'})\n",
    "        users.columns = ['userId', 'age', 'gender', 'occupation']\n",
    "\n",
    "        train = pd.merge(train, users, on=\"userId\")\n",
    "        train = pd.merge(train, items, on=\"itemId\")\n",
    "\n",
    "        train['userId'] = train['userId'].astype('str')\n",
    "        train['itemId'] = train['itemId'].astype('str')\n",
    "        train['rating'] = train['rating'].astype('float')\n",
    "\n",
    "        test = pd.merge(test, users, on=\"userId\")\n",
    "        test = pd.merge(test, items, on=\"itemId\")\n",
    "\n",
    "        test['userId'] = test['userId'].astype('str')\n",
    "        test['itemId'] = test['itemId'].astype('str')\n",
    "        test['rating'] = test['rating'].astype('float')\n",
    "\n",
    "    if train_test_split == True:\n",
    "        return train, test, users, items\n",
    "    else:\n",
    "        train = pd.concat([train, test], ignore_index=True)\n",
    "        train = train.sample(frac=10).reset_index(drop=True)\n",
    "        return train, users, items\n"
   ]
  },
  {
   "cell_type": "code",
   "execution_count": 2,
   "metadata": {},
   "outputs": [],
   "source": [
    "import numpy as np\n",
    "import pandas as pd\n",
    "from math import sqrt\n",
    "\n",
    "\n",
    "class SVDRecommender:\n",
    "    def __init__(self,no_of_factors=15,method='default',):\n",
    "        self.parameters={\"no_of_factors\", \"method\"}\n",
    "        self.method = method\n",
    "        self.no_of_factors = no_of_factors\n",
    "\n",
    "    def get_params(self, deep=False):\n",
    "        out=dict()\n",
    "        for param in self.parameters:\n",
    "            out[param]=getattr(self, param)\n",
    "\n",
    "        return out\n",
    "\n",
    "\n",
    "    def set_params(self, **params):\n",
    "\n",
    "        for a in params:\n",
    "            if a in self.parameters:\n",
    "                setattr(self,a,params[a])\n",
    "            else:\n",
    "                raise AttributeError(\"No such attribute exists to be set\")\n",
    "\n",
    "\n",
    "    def create_utility_matrix(self, data, formatizer = {'user':0, 'item': 1, 'value': 2}):\n",
    "\n",
    "        itemField = formatizer['item']\n",
    "        userField = formatizer['user']\n",
    "        valueField = formatizer['value']\n",
    "\n",
    "        userList = data.ix[:,userField].tolist()\n",
    "        itemList = data.ix[:,itemField].tolist()\n",
    "        valueList = data.ix[:,valueField].tolist()\n",
    "\n",
    "        users = list(set(data.ix[:,userField]))\n",
    "        items = list(set(data.ix[:,itemField]))\n",
    "\n",
    "        users_index = {users[i]: i for i in range(len(users))}\n",
    "        \n",
    "        pd_dict = {item: [np.nan for i in range(len(users))] for item in items}\n",
    "\n",
    "        for i in range(0,len(data)):\n",
    "            item = itemList[i]\n",
    "            user = userList[i]\n",
    "            value = valueList[i]\n",
    "\n",
    "            pd_dict[item][users_index[user]] = value\n",
    "            #print i\n",
    "\n",
    "        X = pd.DataFrame(pd_dict)\n",
    "        X.index = users\n",
    "\n",
    "        users = list(X.index)\n",
    "        items = list(X.columns)\n",
    "\n",
    "        return np.array(X), users, items\n",
    "\n",
    "\n",
    "    def fit(self, user_item_matrix, userList, itemList):\n",
    "\n",
    "        self.users = list(userList)\n",
    "        self.items = list(itemList)\n",
    "\n",
    "        self.user_index = {self.users[i]: i for i in range(len(self.users))}\n",
    "        self.item_index = {self.items[i]: i for i in range(len(self.items))}\n",
    "\n",
    "\n",
    "        mask=np.isnan(user_item_matrix)\n",
    "        masked_arr=np.ma.masked_array(user_item_matrix, mask)\n",
    "\n",
    "        self.predMask = ~mask\n",
    "\n",
    "        self.item_means=np.mean(masked_arr, axis=0)\n",
    "        self.user_means=np.mean(masked_arr, axis=1)\n",
    "        self.item_means_tiled = np.tile(self.item_means, (user_item_matrix.shape[0],1))\n",
    "        self.user_means_tiled = np.tile(self.user_means,(user_item_matrix.shape[0],1))\n",
    "        # utility matrix or ratings matrix that can be fed to svd\n",
    "        self.utilMat = masked_arr.filled(self.item_means)\n",
    "\n",
    "        # for the default method\n",
    "        if self.method=='default':\n",
    "            self.utilMat = self.utilMat - self.item_means_tiled\n",
    "        else:\n",
    "            self.utilMat = self.utilMat - self.user_means_tiled\n",
    "\n",
    "        # Singular Value Decomposition starts\n",
    "        # k denotes the number of features of each user and item\n",
    "        # the top matrices are cropped to take the greatest k rows or\n",
    "        # columns. U, V, s are already sorted descending.\n",
    "\n",
    "        k = self.no_of_factors\n",
    "        U, s, V = np.linalg.svd(self.utilMat, full_matrices=False)\n",
    "\n",
    "        U = U[:,0:k]\n",
    "        V = V[0:k,:]\n",
    "        s_root = np.diag([sqrt(s[i]) for i in range(0,k)])\n",
    "\n",
    "        self.Usk=np.dot(U,s_root)\n",
    "        self.skV=np.dot(s_root,V)\n",
    "        self.UsV = np.dot(self.Usk, self.skV)\n",
    "\n",
    "        self.UsV = self.UsV + self.item_means_tiled\n",
    "        # Or else can use the utilMat theough mean computed across users\n",
    "    #   self.UsV=self.UsV+self.user_means_tiled\n",
    "\n",
    "\n",
    "    def predict(self, X, formatizer = {'user': 0, 'item': 1}):\n",
    "\n",
    "        users = X.ix[:,formatizer['user']].tolist()\n",
    "        items = X.ix[:,formatizer['item']].tolist()\n",
    "\n",
    "        if self.method == 'default':\n",
    "\n",
    "            values = []\n",
    "            for i in range(len(users)):\n",
    "                user = users[i]\n",
    "                item = items[i]\n",
    "\n",
    "                # user and item in the test set may not always occur in the train set. In these cases\n",
    "                # we can not find those values from the utility matrix.\n",
    "                # That is why a check is necessary.\n",
    "                # 1. both user and item in train\n",
    "                # 2. only user in train\n",
    "                # 3. only item in train\n",
    "                # 4. none in train\n",
    "\n",
    "                if user in self.user_index:\n",
    "                    if item in self.item_index:\n",
    "                        values.append( self.UsV[self.user_index[user], self.item_index[item]] )\n",
    "                    else:\n",
    "                        values.append( self.user_means[ self.user_index[user] ] )\n",
    "\n",
    "                elif item in self.item_index and user not in self.user_index:\n",
    "                    values.append( self.item_means[self.item_index[item] ])\n",
    "\n",
    "                else:\n",
    "                    values.append(np.mean(self.item_means)*0.5 + np.mean(self.user_means)*0.5)\n",
    "\n",
    "        return values\n",
    "\n",
    "\n",
    "    def recommend(self, users_list, N=10, values = False):\n",
    "\n",
    "        # utilMat element not zero means that element has already been\n",
    "        # discovered by the user and can not be recommended\n",
    "        predMat = np.ma.masked_where(self.predMask, self.UsV).filled(fill_value=-999)\n",
    "        out = []\n",
    "\n",
    "        if values == True:\n",
    "            for user in users_list:\n",
    "                try:\n",
    "                    j = self.user_index[user]\n",
    "                except:\n",
    "                    raise Exception(\"Invalid user:\", user)\n",
    "                max_indices = predMat[j,:].argsort()[-N:][::-1]\n",
    "                out.append( [(self.items[index],predMat[j,index]) for index in max_indices ] )\n",
    "\n",
    "        else:\n",
    "            for user in users_list:\n",
    "                try:\n",
    "                    j = self.user_index[user]\n",
    "                except:\n",
    "                    raise Exception(\"Invalid user:\", user)\n",
    "                max_indices = predMat[j,:].argsort()[-N:][::-1]\n",
    "                out.append( [self.items[index] for index in max_indices ] )\n",
    "\n",
    "        return out"
   ]
  },
  {
   "cell_type": "code",
   "execution_count": 3,
   "metadata": {},
   "outputs": [
    {
     "name": "stdout",
     "output_type": "stream",
     "text": [
      "1.0043187628563184\n",
      "1.008656177425246\n",
      "0.8005160089470263\n"
     ]
    }
   ],
   "source": [
    "from DataPreprocessing import loadMovieLens100k\n",
    "from SVDFunction import SVDRecommender\n",
    "from math import sqrt\n",
    "\n",
    "train, test, user_data, item_data = loadMovieLens100k(train_test_split=True)\n",
    "\n",
    "svd = SVDRecommender(no_of_factors=10)\n",
    "\n",
    "user_item_matrix, users, items = svd.create_utility_matrix(train, \n",
    "                                                           formatizer={'user':'userId', 'item':'itemId', 'value':'rating'})\n",
    "\n",
    "svd.fit(user_item_matrix, users, items)\n",
    "\n",
    "preds = svd.predict(test, formatizer = {'user':'userId', 'item': 'itemId'})\n",
    "\n",
    "\n",
    "test_users=[1,2,3,4,5]\n",
    "results = svd.recommend(test_users, N=4)\n",
    "\n",
    "def mae(true, predicted):\n",
    "\n",
    "    true=list(true)\n",
    "    predicted=list(predicted)\n",
    "    error=list()\n",
    "\n",
    "    error=[abs(true[i]-predicted[i]) for i in range(len(true))]\n",
    "    mae_val=sum([error[i] for i in range(len(error))])/len(error)\n",
    "\n",
    "    return mae_val\n",
    "\n",
    "def mse(true, predicted):\n",
    "\n",
    "    true=list(true)\n",
    "    predicted=list(predicted)\n",
    "    error=list()\n",
    "\n",
    "    error=[(true[i]-predicted[i]) for i in range(len(true))]\n",
    "    value=sum([error[i]*error[i] for i in range(len(error))])/len(error)\n",
    "\n",
    "    return value\n",
    "\n",
    "def rmse(true,predicted):\n",
    "    return sqrt(mse(true,predicted))\n",
    "\n",
    "print(results)\n",
    "\n",
    "print(rmse(preds, list(test['rating'])))\n",
    "print(mse(preds, list(test['rating'])))\n",
    "print(mae(preds, list(test['rating'])))"
   ]
  },
  {
   "cell_type": "code",
   "execution_count": 7,
   "metadata": {},
   "outputs": [
    {
     "data": {
      "text/plain": [
       "5"
      ]
     },
     "execution_count": 7,
     "metadata": {},
     "output_type": "execute_result"
    }
   ],
   "source": [
    "len(results)"
   ]
  },
  {
   "cell_type": "code",
   "execution_count": 8,
   "metadata": {},
   "outputs": [
    {
     "data": {
      "text/plain": [
       "[1293, 1500, 1467, 1122]"
      ]
     },
     "execution_count": 8,
     "metadata": {},
     "output_type": "execute_result"
    }
   ],
   "source": [
    "results[0]"
   ]
  },
  {
   "cell_type": "code",
   "execution_count": 9,
   "metadata": {},
   "outputs": [
    {
     "data": {
      "text/plain": [
       "[1293, 1189, 814, 1656]"
      ]
     },
     "execution_count": 9,
     "metadata": {},
     "output_type": "execute_result"
    }
   ],
   "source": [
    "results[1]"
   ]
  },
  {
   "cell_type": "code",
   "execution_count": 10,
   "metadata": {},
   "outputs": [
    {
     "data": {
      "text/plain": [
       "[1599, 1500, 1201, 1122]"
      ]
     },
     "execution_count": 10,
     "metadata": {},
     "output_type": "execute_result"
    }
   ],
   "source": [
    "results[2]"
   ]
  },
  {
   "cell_type": "code",
   "execution_count": 11,
   "metadata": {},
   "outputs": [
    {
     "name": "stdout",
     "output_type": "stream",
     "text": [
      "[1293, 1500, 1467, 1122]\n",
      "[1293, 1189, 814, 1656]\n",
      "[1599, 1500, 1201, 1122]\n",
      "[1656, 1189, 1293, 814]\n",
      "[1536, 1201, 1467, 1189]\n"
     ]
    }
   ],
   "source": [
    "for i in range(0,len(results)):\n",
    "    print(results[i])"
   ]
  },
  {
   "cell_type": "code",
   "execution_count": 15,
   "metadata": {},
   "outputs": [
    {
     "ename": "TypeError",
     "evalue": "list indices must be integers or slices, not str",
     "output_type": "error",
     "traceback": [
      "\u001b[1;31m---------------------------------------------------------------------------\u001b[0m",
      "\u001b[1;31mTypeError\u001b[0m                                 Traceback (most recent call last)",
      "\u001b[1;32m<ipython-input-15-18e0f65649e3>\u001b[0m in \u001b[0;36m<module>\u001b[1;34m\u001b[0m\n\u001b[1;32m----> 1\u001b[1;33m \u001b[0mitems\u001b[0m\u001b[1;33m[\u001b[0m\u001b[1;34m'itemId'\u001b[0m\u001b[1;33m]\u001b[0m\u001b[1;33m\u001b[0m\u001b[1;33m\u001b[0m\u001b[0m\n\u001b[0m",
      "\u001b[1;31mTypeError\u001b[0m: list indices must be integers or slices, not str"
     ]
    }
   ],
   "source": [
    "items['itemId']"
   ]
  },
  {
   "cell_type": "code",
   "execution_count": null,
   "metadata": {},
   "outputs": [],
   "source": []
  }
 ],
 "metadata": {
  "kernelspec": {
   "display_name": "Python 3",
   "language": "python",
   "name": "python3"
  },
  "language_info": {
   "codemirror_mode": {
    "name": "ipython",
    "version": 3
   },
   "file_extension": ".py",
   "mimetype": "text/x-python",
   "name": "python",
   "nbconvert_exporter": "python",
   "pygments_lexer": "ipython3",
   "version": "3.7.3"
  }
 },
 "nbformat": 4,
 "nbformat_minor": 2
}
